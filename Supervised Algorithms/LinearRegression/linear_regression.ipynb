{
 "cells": [
  {
   "cell_type": "markdown",
   "metadata": {},
   "source": [
    "# Lets look at the linear regression algorigm on the classic"
   ]
  },
  {
   "cell_type": "code",
   "execution_count": 8,
   "metadata": {},
   "outputs": [],
   "source": [
    "import pandas as pd\n",
    "import numpy as np"
   ]
  },
  {
   "cell_type": "code",
   "execution_count": 9,
   "metadata": {},
   "outputs": [
    {
     "name": "stdout",
     "output_type": "stream",
     "text": [
      "Collecting opendatasets\n",
      "  Downloading opendatasets-0.1.20-py3-none-any.whl (14 kB)\n",
      "Requirement already satisfied: kaggle in /home/desmond/anaconda3/envs/dl/lib/python3.8/site-packages (from opendatasets) (1.5.12)\n",
      "Collecting click\n",
      "  Downloading click-8.0.3-py3-none-any.whl (97 kB)\n",
      "\u001b[K     |████████████████████████████████| 97 kB 192 kB/s eta 0:00:01\n",
      "\u001b[?25hRequirement already satisfied: tqdm in /home/desmond/anaconda3/envs/dl/lib/python3.8/site-packages (from opendatasets) (4.62.3)\n",
      "Requirement already satisfied: six>=1.10 in /home/desmond/anaconda3/envs/dl/lib/python3.8/site-packages (from kaggle->opendatasets) (1.16.0)\n",
      "Requirement already satisfied: urllib3 in /home/desmond/anaconda3/envs/dl/lib/python3.8/site-packages (from kaggle->opendatasets) (1.25.11)\n",
      "Requirement already satisfied: python-dateutil in /home/desmond/anaconda3/envs/dl/lib/python3.8/site-packages (from kaggle->opendatasets) (2.8.2)\n",
      "Requirement already satisfied: python-slugify in /home/desmond/anaconda3/envs/dl/lib/python3.8/site-packages (from kaggle->opendatasets) (5.0.2)\n",
      "Requirement already satisfied: certifi in /home/desmond/anaconda3/envs/dl/lib/python3.8/site-packages (from kaggle->opendatasets) (2021.5.30)\n",
      "Requirement already satisfied: requests in /home/desmond/anaconda3/envs/dl/lib/python3.8/site-packages (from kaggle->opendatasets) (2.26.0)\n",
      "Requirement already satisfied: text-unidecode>=1.3 in /home/desmond/anaconda3/envs/dl/lib/python3.8/site-packages (from python-slugify->kaggle->opendatasets) (1.3)\n",
      "Requirement already satisfied: idna<4,>=2.5 in /home/desmond/anaconda3/envs/dl/lib/python3.8/site-packages (from requests->kaggle->opendatasets) (3.3)\n",
      "Requirement already satisfied: charset-normalizer~=2.0.0 in /home/desmond/anaconda3/envs/dl/lib/python3.8/site-packages (from requests->kaggle->opendatasets) (2.0.9)\n",
      "Installing collected packages: click, opendatasets\n",
      "Successfully installed click-8.0.3 opendatasets-0.1.20\n"
     ]
    }
   ],
   "source": [
    "# We use the opendatasets package to download datasets from platforms such as kaggle\n",
    "!pip install opendatasets"
   ]
  },
  {
   "cell_type": "code",
   "execution_count": 10,
   "metadata": {},
   "outputs": [],
   "source": [
    "import opendatasets as od"
   ]
  },
  {
   "cell_type": "code",
   "execution_count": 11,
   "metadata": {},
   "outputs": [
    {
     "name": "stdout",
     "output_type": "stream",
     "text": [
      "Please provide your Kaggle credentials to download this dataset. Learn more: http://bit.ly/kaggle-creds\n",
      "Your Kaggle username:Your Kaggle username:Your Kaggle Key:Downloading cdc-data-nutrition-physical-activity-obesity.zip to ./cdc-data-nutrition-physical-activity-obesity\n"
     ]
    },
    {
     "name": "stderr",
     "output_type": "stream",
     "text": [
      "100%|██████████| 1.17M/1.17M [00:00<00:00, 10.9MB/s]"
     ]
    },
    {
     "name": "stdout",
     "output_type": "stream",
     "text": [
      "\n"
     ]
    },
    {
     "name": "stderr",
     "output_type": "stream",
     "text": [
      "\n"
     ]
    }
   ],
   "source": [
    "# this steps directly downloads the dataset from kaggle (you need to provide your username and the kaggle api key)\n",
    "od.download(\"https://www.kaggle.com/spittman1248/cdc-data-nutrition-physical-activity-obesity\")"
   ]
  }
 ],
 "metadata": {
  "interpreter": {
   "hash": "5944ba1e0ff34bff096314062e3f195ae79bfd9995b71477e6aff0e1dd346d92"
  },
  "kernelspec": {
   "display_name": "Python 3.8.10 ('dl')",
   "language": "python",
   "name": "python3"
  },
  "language_info": {
   "codemirror_mode": {
    "name": "ipython",
    "version": 3
   },
   "file_extension": ".py",
   "mimetype": "text/x-python",
   "name": "python",
   "nbconvert_exporter": "python",
   "pygments_lexer": "ipython3",
   "version": "3.8.10"
  },
  "orig_nbformat": 4
 },
 "nbformat": 4,
 "nbformat_minor": 2
}
