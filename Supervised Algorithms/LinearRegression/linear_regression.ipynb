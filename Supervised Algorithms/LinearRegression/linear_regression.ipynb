{
 "cells": [
  {
   "cell_type": "markdown",
   "metadata": {},
   "source": [
    "# Lets look at a simple implementaion of linear regression algorithm from scratch\n",
    "## We use the classic medical insurance dataset"
   ]
  },
  {
   "cell_type": "code",
   "execution_count": 57,
   "metadata": {},
   "outputs": [],
   "source": [
    "import pandas as pd\n",
    "import numpy as np"
   ]
  },
  {
   "cell_type": "code",
   "execution_count": 58,
   "metadata": {},
   "outputs": [],
   "source": [
    "ldf_insurance = pd.read_csv(\"data/insurance.csv\")"
   ]
  },
  {
   "cell_type": "code",
   "execution_count": 59,
   "metadata": {
    "scrolled": true
   },
   "outputs": [
    {
     "data": {
      "text/html": [
       "<div>\n",
       "<style scoped>\n",
       "    .dataframe tbody tr th:only-of-type {\n",
       "        vertical-align: middle;\n",
       "    }\n",
       "\n",
       "    .dataframe tbody tr th {\n",
       "        vertical-align: top;\n",
       "    }\n",
       "\n",
       "    .dataframe thead th {\n",
       "        text-align: right;\n",
       "    }\n",
       "</style>\n",
       "<table border=\"1\" class=\"dataframe\">\n",
       "  <thead>\n",
       "    <tr style=\"text-align: right;\">\n",
       "      <th></th>\n",
       "      <th>age</th>\n",
       "      <th>sex</th>\n",
       "      <th>bmi</th>\n",
       "      <th>children</th>\n",
       "      <th>smoker</th>\n",
       "      <th>region</th>\n",
       "      <th>charges</th>\n",
       "    </tr>\n",
       "  </thead>\n",
       "  <tbody>\n",
       "    <tr>\n",
       "      <th>0</th>\n",
       "      <td>19</td>\n",
       "      <td>female</td>\n",
       "      <td>27.900</td>\n",
       "      <td>0</td>\n",
       "      <td>yes</td>\n",
       "      <td>southwest</td>\n",
       "      <td>16884.92400</td>\n",
       "    </tr>\n",
       "    <tr>\n",
       "      <th>1</th>\n",
       "      <td>18</td>\n",
       "      <td>male</td>\n",
       "      <td>33.770</td>\n",
       "      <td>1</td>\n",
       "      <td>no</td>\n",
       "      <td>southeast</td>\n",
       "      <td>1725.55230</td>\n",
       "    </tr>\n",
       "    <tr>\n",
       "      <th>2</th>\n",
       "      <td>28</td>\n",
       "      <td>male</td>\n",
       "      <td>33.000</td>\n",
       "      <td>3</td>\n",
       "      <td>no</td>\n",
       "      <td>southeast</td>\n",
       "      <td>4449.46200</td>\n",
       "    </tr>\n",
       "    <tr>\n",
       "      <th>3</th>\n",
       "      <td>33</td>\n",
       "      <td>male</td>\n",
       "      <td>22.705</td>\n",
       "      <td>0</td>\n",
       "      <td>no</td>\n",
       "      <td>northwest</td>\n",
       "      <td>21984.47061</td>\n",
       "    </tr>\n",
       "    <tr>\n",
       "      <th>4</th>\n",
       "      <td>32</td>\n",
       "      <td>male</td>\n",
       "      <td>28.880</td>\n",
       "      <td>0</td>\n",
       "      <td>no</td>\n",
       "      <td>northwest</td>\n",
       "      <td>3866.85520</td>\n",
       "    </tr>\n",
       "    <tr>\n",
       "      <th>...</th>\n",
       "      <td>...</td>\n",
       "      <td>...</td>\n",
       "      <td>...</td>\n",
       "      <td>...</td>\n",
       "      <td>...</td>\n",
       "      <td>...</td>\n",
       "      <td>...</td>\n",
       "    </tr>\n",
       "    <tr>\n",
       "      <th>1333</th>\n",
       "      <td>50</td>\n",
       "      <td>male</td>\n",
       "      <td>30.970</td>\n",
       "      <td>3</td>\n",
       "      <td>no</td>\n",
       "      <td>northwest</td>\n",
       "      <td>10600.54830</td>\n",
       "    </tr>\n",
       "    <tr>\n",
       "      <th>1334</th>\n",
       "      <td>18</td>\n",
       "      <td>female</td>\n",
       "      <td>31.920</td>\n",
       "      <td>0</td>\n",
       "      <td>no</td>\n",
       "      <td>northeast</td>\n",
       "      <td>2205.98080</td>\n",
       "    </tr>\n",
       "    <tr>\n",
       "      <th>1335</th>\n",
       "      <td>18</td>\n",
       "      <td>female</td>\n",
       "      <td>36.850</td>\n",
       "      <td>0</td>\n",
       "      <td>no</td>\n",
       "      <td>southeast</td>\n",
       "      <td>1629.83350</td>\n",
       "    </tr>\n",
       "    <tr>\n",
       "      <th>1336</th>\n",
       "      <td>21</td>\n",
       "      <td>female</td>\n",
       "      <td>25.800</td>\n",
       "      <td>0</td>\n",
       "      <td>no</td>\n",
       "      <td>southwest</td>\n",
       "      <td>2007.94500</td>\n",
       "    </tr>\n",
       "    <tr>\n",
       "      <th>1337</th>\n",
       "      <td>61</td>\n",
       "      <td>female</td>\n",
       "      <td>29.070</td>\n",
       "      <td>0</td>\n",
       "      <td>yes</td>\n",
       "      <td>northwest</td>\n",
       "      <td>29141.36030</td>\n",
       "    </tr>\n",
       "  </tbody>\n",
       "</table>\n",
       "<p>1338 rows × 7 columns</p>\n",
       "</div>"
      ],
      "text/plain": [
       "      age     sex     bmi  children smoker     region      charges\n",
       "0      19  female  27.900         0    yes  southwest  16884.92400\n",
       "1      18    male  33.770         1     no  southeast   1725.55230\n",
       "2      28    male  33.000         3     no  southeast   4449.46200\n",
       "3      33    male  22.705         0     no  northwest  21984.47061\n",
       "4      32    male  28.880         0     no  northwest   3866.85520\n",
       "...   ...     ...     ...       ...    ...        ...          ...\n",
       "1333   50    male  30.970         3     no  northwest  10600.54830\n",
       "1334   18  female  31.920         0     no  northeast   2205.98080\n",
       "1335   18  female  36.850         0     no  southeast   1629.83350\n",
       "1336   21  female  25.800         0     no  southwest   2007.94500\n",
       "1337   61  female  29.070         0    yes  northwest  29141.36030\n",
       "\n",
       "[1338 rows x 7 columns]"
      ]
     },
     "execution_count": 59,
     "metadata": {},
     "output_type": "execute_result"
    }
   ],
   "source": [
    "ldf_insurance"
   ]
  },
  {
   "cell_type": "markdown",
   "metadata": {},
   "source": [
    "zi = (xi – min(x)) / (max(x) – min(x))\n",
    "\n",
    "where:\n",
    "\n",
    "zi: The ith normalized value in the dataset\n",
    "xi: The ith value in the dataset\n",
    "min(x): The minimum value in the dataset\n",
    "max(x): The maximum value in the dataset"
   ]
  },
  {
   "cell_type": "code",
   "execution_count": 60,
   "metadata": {},
   "outputs": [],
   "source": [
    "def numeric_normalizer(age, pint_min_value, pint_max_value, normalization_type = \"scale_to_range\"):\n",
    "    \n",
    "    # We use the scale to range normalization by default ( Scales the values between 0-1 )\n",
    "    # Useful when the data is approzimately uniformly distributed\n",
    "    if normalization_type==\"scale_to_range\":\n",
    "        return (age - pint_min_value)/(pint_max_value - pint_min_value)\n",
    "    \n",
    "    # Useful when the only a few outliers are present in the data\n",
    "    if normalization_type==\"z_score\":\n",
    "        # To be implemented\n",
    "        pass"
   ]
  },
  {
   "cell_type": "code",
   "execution_count": 61,
   "metadata": {},
   "outputs": [],
   "source": [
    "def normalize_data(ldf_insurance):\n",
    "    # Normalize Age\n",
    "    lint_min_age = min(ldf_insurance[\"age\"])\n",
    "    lint_max_age = max(ldf_insurance[\"age\"])\n",
    "    ldf_insurance[\"age\"] = ldf_insurance[\"age\"].apply(numeric_normalizer, args=[lint_min_age, lint_max_age])\n",
    "    \n",
    "    # Normalize bmi\n",
    "    lint_min_bmi = min(ldf_insurance[\"bmi\"])\n",
    "    lint_max_bmi = max(ldf_insurance[\"bmi\"])\n",
    "    ldf_insurance[\"bmi\"] = ldf_insurance[\"bmi\"].apply(numeric_normalizer, args=[lint_min_bmi, lint_max_bmi])\n",
    "    \n",
    "    # Normalize Children\n",
    "    lint_min_children = min(ldf_insurance[\"children\"])\n",
    "    lint_max_children = max(ldf_insurance[\"children\"])\n",
    "    ldf_insurance[\"children\"] = ldf_insurance[\"children\"].apply(\n",
    "        numeric_normalizer, args=[lint_min_children, lint_max_children])\n",
    "    \n",
    "    # Categorize sex\n",
    "    ldf_insurance['sex'] = ldf_insurance['sex'].astype('category').cat.codes\n",
    "    # Categorize smoker\n",
    "    ldf_insurance['smoker'] = ldf_insurance['smoker'].astype('category').cat.codes\n",
    "    # Categorize region\n",
    "    ldf_insurance['region'] = ldf_insurance['region'].astype('category').cat.codes"
   ]
  },
  {
   "cell_type": "code",
   "execution_count": 62,
   "metadata": {},
   "outputs": [],
   "source": [
    "# Now lets call the normalize data method on our dataset\n",
    "normalize_data(ldf_insurance)\n",
    "normalized_data = np.array(ldf_insurance, dtype=float)"
   ]
  },
  {
   "cell_type": "code",
   "execution_count": 111,
   "metadata": {
    "scrolled": true
   },
   "outputs": [
    {
     "data": {
      "text/plain": [
       "array([[2.17391304e-02, 0.00000000e+00, 3.21226796e-01, ...,\n",
       "        1.00000000e+00, 3.00000000e+00, 1.68849240e+04],\n",
       "       [0.00000000e+00, 1.00000000e+00, 4.79149852e-01, ...,\n",
       "        0.00000000e+00, 2.00000000e+00, 1.72555230e+03],\n",
       "       [2.17391304e-01, 1.00000000e+00, 4.58434221e-01, ...,\n",
       "        0.00000000e+00, 2.00000000e+00, 4.44946200e+03],\n",
       "       ...,\n",
       "       [0.00000000e+00, 0.00000000e+00, 5.62012376e-01, ...,\n",
       "        0.00000000e+00, 2.00000000e+00, 1.62983350e+03],\n",
       "       [6.52173913e-02, 0.00000000e+00, 2.64729621e-01, ...,\n",
       "        0.00000000e+00, 3.00000000e+00, 2.00794500e+03],\n",
       "       [9.34782609e-01, 0.00000000e+00, 3.52703793e-01, ...,\n",
       "        1.00000000e+00, 1.00000000e+00, 2.91413603e+04]])"
      ]
     },
     "execution_count": 111,
     "metadata": {},
     "output_type": "execute_result"
    }
   ],
   "source": [
    "# Let's check if our method did what it was supposed to\n",
    "normalized_data\n"
   ]
  },
  {
   "cell_type": "code",
   "execution_count": 52,
   "metadata": {},
   "outputs": [],
   "source": [
    "# Lets define our hypothesis\n",
    "# hθ(x) = θ0 + θ1x1 + θ2x2 + θ3x3 +…..+ θnxn\n",
    "def hypothesis(inputs, weights):\n",
    "    return np.matmul(weights, inputs)"
   ]
  },
  {
   "attachments": {
    "image-2.png": {
     "image/png": "[encoded data removed]"
    },
    "image.png": {
     "image/png": "[encoded data removed]"
    }
   },
   "cell_type": "markdown",
   "metadata": {},
   "source": [
    "![image.png](attachment:image.png)\n",
    "source: https://www.holehouse.org/\n",
    "![image-2.png](attachment:image-2.png)"
   ]
  },
  {
   "cell_type": "code",
   "execution_count": 54,
   "metadata": {},
   "outputs": [],
   "source": [
    "def cost(inputs, labels, weights):\n",
    "    return"
   ]
  },
  {
   "cell_type": "code",
   "execution_count": 106,
   "metadata": {},
   "outputs": [],
   "source": [
    "def get_train_and_test_data(train_sample_partition):\n",
    "    \n",
    "    # Get the index at which the data is supposed to be partitioned\n",
    "    lint_partition_index = int(train_sample_partition*len(normalized_data))\n",
    "    \n",
    "    # For the features (independent variables) we use the 1st 5 columns [age, sex, bmi, children, smoker, region]\n",
    "    train_features = normalized_data[:lint_partition_index, :5]\n",
    "    test_features = normalized_data[lint_partition_index:, :5]\n",
    "    \n",
    "    # For the labels (dependent variables) we use the last column [charges]\n",
    "    train_labels = normalized_data[:lint_partition_index, -1]\n",
    "    test_labels = normalized_data[lint_partition_index:, -1]\n",
    "    \n",
    "    return train_features, train_labels, test_features, test_labels"
   ]
  },
  {
   "cell_type": "code",
   "execution_count": 107,
   "metadata": {},
   "outputs": [],
   "source": [
    "def run(epochs=1000, learning_rate=0.001, train_sample_partition=.65):\n",
    "    train_features, train_labels, test_features, test_labels = get_train_and_test_data(train_sample_partition)"
   ]
  },
  {
   "cell_type": "code",
   "execution_count": 108,
   "metadata": {},
   "outputs": [],
   "source": [
    "run()"
   ]
  }
 ],
 "metadata": {
  "interpreter": {
   "hash": "5944ba1e0ff34bff096314062e3f195ae79bfd9995b71477e6aff0e1dd346d92"
  },
  "kernelspec": {
   "display_name": "Python 3",
   "language": "python",
   "name": "python3"
  },
  "language_info": {
   "codemirror_mode": {
    "name": "ipython",
    "version": 3
   },
   "file_extension": ".py",
   "mimetype": "text/x-python",
   "name": "python",
   "nbconvert_exporter": "python",
   "pygments_lexer": "ipython3",
   "version": "3.8.10"
  }
 },
 "nbformat": 4,
 "nbformat_minor": 2
}
